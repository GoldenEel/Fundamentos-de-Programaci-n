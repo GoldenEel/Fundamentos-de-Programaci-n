{
  "nbformat": 4,
  "nbformat_minor": 0,
  "metadata": {
    "colab": {
      "name": "ejercicios_while_for.ipynb",
      "provenance": []
    },
    "kernelspec": {
      "name": "python3",
      "display_name": "Python 3"
    }
  },
  "cells": [
    {
      "cell_type": "code",
      "metadata": {
        "colab": {
          "base_uri": "https://localhost:8080/"
        },
        "id": "AJaHkivkKCr0",
        "outputId": "1b37a2f0-239b-40d2-b1b5-c3f2a7fefe44"
      },
      "source": [
        "n_alta = 0\r\n",
        "n_baja = 0\r\n",
        "x = 1\r\n",
        "while x <= 10:\r\n",
        "  nota = float(input('Ingrese la nota: '))\r\n",
        "  x = x+1\r\n",
        "  if nota >= 7:\r\n",
        "    n_alta = n_alta + 1\r\n",
        "  else:\r\n",
        "    n_baja = n_baja + 1\r\n",
        "print(f'Alumnos con nota mayores a 7: {n_alta} \\nAlumnos con notas menores a 7: {n_baja}')"
      ],
      "execution_count": null,
      "outputs": [
        {
          "output_type": "stream",
          "text": [
            "Ingrese la nota: 1\n",
            "Ingrese la nota: 2\n",
            "Ingrese la nota: 3\n",
            "Ingrese la nota: 4\n",
            "Ingrese la nota: 5\n",
            "Ingrese la nota: 6\n",
            "Ingrese la nota: 7\n",
            "Ingrese la nota: 8\n",
            "Ingrese la nota: 9\n",
            "Ingrese la nota: 0\n",
            "Alumnos con nota mayores a 7: 3 \n",
            " Alumnos con notas menores a 7: 7\n"
          ],
          "name": "stdout"
        }
      ]
    },
    {
      "cell_type": "code",
      "metadata": {
        "colab": {
          "base_uri": "https://localhost:8080/"
        },
        "id": "BCW2gy0u_hnZ",
        "outputId": "02bbc21f-f2f2-457c-f4d9-b74346b6776a"
      },
      "source": [
        "x = 1\r\n",
        "sum = 0\r\n",
        "n = int(input('Ingrese cuantas alturas va a digitar: '))\r\n",
        "while x <= n:\r\n",
        "  alt = float(input('Ingrese la altura:'))\r\n",
        "  sum = sum + alt \r\n",
        "  x= x + 1\r\n",
        "prom = sum / n \r\n",
        "print(f'El promedio de altura es {prom}') "
      ],
      "execution_count": null,
      "outputs": [
        {
          "output_type": "stream",
          "text": [
            "Ingrese cuantas alturas va a digitar: 2\n",
            "Ingrese la altura:2\n",
            "Ingrese la altura:3\n",
            "El promedio de altura es 2.5\n"
          ],
          "name": "stdout"
        }
      ]
    },
    {
      "cell_type": "code",
      "metadata": {
        "colab": {
          "base_uri": "https://localhost:8080/"
        },
        "id": "7oSLLMPTA2Ip",
        "outputId": "0614e63f-95d4-4113-a77f-29e96b5e94bf"
      },
      "source": [
        "x = 1\r\n",
        "n = int(input('Ingrese la cantidad de empleados: '))\r\n",
        "a = 0\r\n",
        "b = 0\r\n",
        "while x <= n:\r\n",
        "  sueldo = int(input('Ingrese el sueldo: '))\r\n",
        "  x = x+1\r\n",
        "  if sueldo >= 100 and sueldo < 300:\r\n",
        "    a = a+1\r\n",
        "  elif sueldo >= 300 and sueldo <= 500:\r\n",
        "    b = b+1\r\n",
        "print(f'Existen {a} sueldos entre 100 y 300 y {b} sueldos de más de 300')\r\n",
        "      "
      ],
      "execution_count": null,
      "outputs": [
        {
          "output_type": "stream",
          "text": [
            "Ingrese la cantidad de empleados: 3\n",
            "Ingrese el sueldo: 300\n",
            "Ingrese el sueldo: 200\n",
            "Ingrese el sueldo: 150\n",
            "Ingrese el sueldo: 230\n",
            "Existen 3 sueldos entre 100 y 300 y 1 sueldos de más de 300\n"
          ],
          "name": "stdout"
        }
      ]
    },
    {
      "cell_type": "code",
      "metadata": {
        "colab": {
          "base_uri": "https://localhost:8080/"
        },
        "id": "JPhbQTNkD0jl",
        "outputId": "49e512f5-a428-4565-d2d7-5e997631a9da"
      },
      "source": [
        "x = 1\r\n",
        "while x <= 25:\r\n",
        "  print(x*11)\r\n",
        "  x = x+1"
      ],
      "execution_count": null,
      "outputs": [
        {
          "output_type": "stream",
          "text": [
            "11\n",
            "22\n",
            "33\n",
            "44\n",
            "55\n",
            "66\n",
            "77\n",
            "88\n",
            "99\n",
            "110\n",
            "121\n",
            "132\n",
            "143\n",
            "154\n",
            "165\n",
            "176\n",
            "187\n",
            "198\n",
            "209\n",
            "220\n",
            "231\n",
            "242\n",
            "253\n",
            "264\n",
            "275\n"
          ],
          "name": "stdout"
        }
      ]
    },
    {
      "cell_type": "code",
      "metadata": {
        "colab": {
          "base_uri": "https://localhost:8080/"
        },
        "id": "9zkUCaTeFiNv",
        "outputId": "3078cb9a-ce9b-45e4-ffbc-62f3cb9f4765"
      },
      "source": [
        "x = 1\r\n",
        "while x <= 62:\r\n",
        "  print(x*8)\r\n",
        "  x = x+1"
      ],
      "execution_count": null,
      "outputs": [
        {
          "output_type": "stream",
          "text": [
            "8\n",
            "16\n",
            "24\n",
            "32\n",
            "40\n",
            "48\n",
            "56\n",
            "64\n",
            "72\n",
            "80\n",
            "88\n",
            "96\n",
            "104\n",
            "112\n",
            "120\n",
            "128\n",
            "136\n",
            "144\n",
            "152\n",
            "160\n",
            "168\n",
            "176\n",
            "184\n",
            "192\n",
            "200\n",
            "208\n",
            "216\n",
            "224\n",
            "232\n",
            "240\n",
            "248\n",
            "256\n",
            "264\n",
            "272\n",
            "280\n",
            "288\n",
            "296\n",
            "304\n",
            "312\n",
            "320\n",
            "328\n",
            "336\n",
            "344\n",
            "352\n",
            "360\n",
            "368\n",
            "376\n",
            "384\n",
            "392\n",
            "400\n",
            "408\n",
            "416\n",
            "424\n",
            "432\n",
            "440\n",
            "448\n",
            "456\n",
            "464\n",
            "472\n",
            "480\n",
            "488\n",
            "496\n"
          ],
          "name": "stdout"
        }
      ]
    },
    {
      "cell_type": "code",
      "metadata": {
        "id": "4kNz6wsnlVNE",
        "colab": {
          "base_uri": "https://localhost:8080/",
          "height": 564
        },
        "outputId": "3a497eee-1b7f-405a-db41-f82fcad4ec86"
      },
      "source": [
        "x = 1\r\n",
        "lst_1 = 0\r\n",
        "lst_2 = 0\r\n",
        "while x <= 15:\r\n",
        "  n= int(input('Ingrese un valor de la primera lista: '))\r\n",
        "  lst_1 = lst_1 + n\r\n",
        "  x= x+1\r\n",
        "x=1\r\n",
        "while x <= 15:\r\n",
        "  n= int(input('Ingrese un valor de la segunda lista: '))\r\n",
        "  lst_2 = lst_2 + n\r\n",
        "  x= x+1\r\n",
        "if lst_1 > lst_2:\r\n",
        "  print('La lista 1 es más grande que la lista 2')\r\n",
        "elif lst_2 > lst_1:\r\n",
        "  print('La lista 2 es más grande que la lista 1')\r\n",
        "else: \r\n",
        "  print('Las listas tienen el mismo tamaño')"
      ],
      "execution_count": 1,
      "outputs": [
        {
          "output_type": "error",
          "ename": "KeyboardInterrupt",
          "evalue": "ignored",
          "traceback": [
            "\u001b[0;31m---------------------------------------------------------------------------\u001b[0m",
            "\u001b[0;31mKeyboardInterrupt\u001b[0m                         Traceback (most recent call last)",
            "\u001b[0;32m/usr/local/lib/python3.6/dist-packages/ipykernel/kernelbase.py\u001b[0m in \u001b[0;36m_input_request\u001b[0;34m(self, prompt, ident, parent, password)\u001b[0m\n\u001b[1;32m    728\u001b[0m             \u001b[0;32mtry\u001b[0m\u001b[0;34m:\u001b[0m\u001b[0;34m\u001b[0m\u001b[0;34m\u001b[0m\u001b[0m\n\u001b[0;32m--> 729\u001b[0;31m                 \u001b[0mident\u001b[0m\u001b[0;34m,\u001b[0m \u001b[0mreply\u001b[0m \u001b[0;34m=\u001b[0m \u001b[0mself\u001b[0m\u001b[0;34m.\u001b[0m\u001b[0msession\u001b[0m\u001b[0;34m.\u001b[0m\u001b[0mrecv\u001b[0m\u001b[0;34m(\u001b[0m\u001b[0mself\u001b[0m\u001b[0;34m.\u001b[0m\u001b[0mstdin_socket\u001b[0m\u001b[0;34m,\u001b[0m \u001b[0;36m0\u001b[0m\u001b[0;34m)\u001b[0m\u001b[0;34m\u001b[0m\u001b[0;34m\u001b[0m\u001b[0m\n\u001b[0m\u001b[1;32m    730\u001b[0m             \u001b[0;32mexcept\u001b[0m \u001b[0mException\u001b[0m\u001b[0;34m:\u001b[0m\u001b[0;34m\u001b[0m\u001b[0;34m\u001b[0m\u001b[0m\n",
            "\u001b[0;32m/usr/local/lib/python3.6/dist-packages/jupyter_client/session.py\u001b[0m in \u001b[0;36mrecv\u001b[0;34m(self, socket, mode, content, copy)\u001b[0m\n\u001b[1;32m    802\u001b[0m         \u001b[0;32mtry\u001b[0m\u001b[0;34m:\u001b[0m\u001b[0;34m\u001b[0m\u001b[0;34m\u001b[0m\u001b[0m\n\u001b[0;32m--> 803\u001b[0;31m             \u001b[0mmsg_list\u001b[0m \u001b[0;34m=\u001b[0m \u001b[0msocket\u001b[0m\u001b[0;34m.\u001b[0m\u001b[0mrecv_multipart\u001b[0m\u001b[0;34m(\u001b[0m\u001b[0mmode\u001b[0m\u001b[0;34m,\u001b[0m \u001b[0mcopy\u001b[0m\u001b[0;34m=\u001b[0m\u001b[0mcopy\u001b[0m\u001b[0;34m)\u001b[0m\u001b[0;34m\u001b[0m\u001b[0;34m\u001b[0m\u001b[0m\n\u001b[0m\u001b[1;32m    804\u001b[0m         \u001b[0;32mexcept\u001b[0m \u001b[0mzmq\u001b[0m\u001b[0;34m.\u001b[0m\u001b[0mZMQError\u001b[0m \u001b[0;32mas\u001b[0m \u001b[0me\u001b[0m\u001b[0;34m:\u001b[0m\u001b[0;34m\u001b[0m\u001b[0;34m\u001b[0m\u001b[0m\n",
            "\u001b[0;32m/usr/local/lib/python3.6/dist-packages/zmq/sugar/socket.py\u001b[0m in \u001b[0;36mrecv_multipart\u001b[0;34m(self, flags, copy, track)\u001b[0m\n\u001b[1;32m    582\u001b[0m         \"\"\"\n\u001b[0;32m--> 583\u001b[0;31m         \u001b[0mparts\u001b[0m \u001b[0;34m=\u001b[0m \u001b[0;34m[\u001b[0m\u001b[0mself\u001b[0m\u001b[0;34m.\u001b[0m\u001b[0mrecv\u001b[0m\u001b[0;34m(\u001b[0m\u001b[0mflags\u001b[0m\u001b[0;34m,\u001b[0m \u001b[0mcopy\u001b[0m\u001b[0;34m=\u001b[0m\u001b[0mcopy\u001b[0m\u001b[0;34m,\u001b[0m \u001b[0mtrack\u001b[0m\u001b[0;34m=\u001b[0m\u001b[0mtrack\u001b[0m\u001b[0;34m)\u001b[0m\u001b[0;34m]\u001b[0m\u001b[0;34m\u001b[0m\u001b[0;34m\u001b[0m\u001b[0m\n\u001b[0m\u001b[1;32m    584\u001b[0m         \u001b[0;31m# have first part already, only loop while more to receive\u001b[0m\u001b[0;34m\u001b[0m\u001b[0;34m\u001b[0m\u001b[0;34m\u001b[0m\u001b[0m\n",
            "\u001b[0;32mzmq/backend/cython/socket.pyx\u001b[0m in \u001b[0;36mzmq.backend.cython.socket.Socket.recv\u001b[0;34m()\u001b[0m\n",
            "\u001b[0;32mzmq/backend/cython/socket.pyx\u001b[0m in \u001b[0;36mzmq.backend.cython.socket.Socket.recv\u001b[0;34m()\u001b[0m\n",
            "\u001b[0;32mzmq/backend/cython/socket.pyx\u001b[0m in \u001b[0;36mzmq.backend.cython.socket._recv_copy\u001b[0;34m()\u001b[0m\n",
            "\u001b[0;32m/usr/local/lib/python3.6/dist-packages/zmq/backend/cython/checkrc.pxd\u001b[0m in \u001b[0;36mzmq.backend.cython.checkrc._check_rc\u001b[0;34m()\u001b[0m\n",
            "\u001b[0;31mKeyboardInterrupt\u001b[0m: ",
            "\nDuring handling of the above exception, another exception occurred:\n",
            "\u001b[0;31mKeyboardInterrupt\u001b[0m                         Traceback (most recent call last)",
            "\u001b[0;32m<ipython-input-1-ef321ca29dee>\u001b[0m in \u001b[0;36m<module>\u001b[0;34m()\u001b[0m\n\u001b[1;32m      3\u001b[0m \u001b[0mlst_2\u001b[0m \u001b[0;34m=\u001b[0m \u001b[0;36m0\u001b[0m\u001b[0;34m\u001b[0m\u001b[0;34m\u001b[0m\u001b[0m\n\u001b[1;32m      4\u001b[0m \u001b[0;32mwhile\u001b[0m \u001b[0mx\u001b[0m \u001b[0;34m<=\u001b[0m \u001b[0;36m15\u001b[0m\u001b[0;34m:\u001b[0m\u001b[0;34m\u001b[0m\u001b[0;34m\u001b[0m\u001b[0m\n\u001b[0;32m----> 5\u001b[0;31m   \u001b[0mn\u001b[0m\u001b[0;34m=\u001b[0m \u001b[0mint\u001b[0m\u001b[0;34m(\u001b[0m\u001b[0minput\u001b[0m\u001b[0;34m(\u001b[0m\u001b[0;34m'Ingrese un valor de la primera lista: '\u001b[0m\u001b[0;34m)\u001b[0m\u001b[0;34m)\u001b[0m\u001b[0;34m\u001b[0m\u001b[0;34m\u001b[0m\u001b[0m\n\u001b[0m\u001b[1;32m      6\u001b[0m   \u001b[0mlst_1\u001b[0m \u001b[0;34m=\u001b[0m \u001b[0mlst_1\u001b[0m \u001b[0;34m+\u001b[0m \u001b[0mn\u001b[0m\u001b[0;34m\u001b[0m\u001b[0;34m\u001b[0m\u001b[0m\n\u001b[1;32m      7\u001b[0m   \u001b[0mx\u001b[0m\u001b[0;34m=\u001b[0m \u001b[0mx\u001b[0m\u001b[0;34m+\u001b[0m\u001b[0;36m1\u001b[0m\u001b[0;34m\u001b[0m\u001b[0;34m\u001b[0m\u001b[0m\n",
            "\u001b[0;32m/usr/local/lib/python3.6/dist-packages/ipykernel/kernelbase.py\u001b[0m in \u001b[0;36mraw_input\u001b[0;34m(self, prompt)\u001b[0m\n\u001b[1;32m    702\u001b[0m             \u001b[0mself\u001b[0m\u001b[0;34m.\u001b[0m\u001b[0m_parent_ident\u001b[0m\u001b[0;34m,\u001b[0m\u001b[0;34m\u001b[0m\u001b[0;34m\u001b[0m\u001b[0m\n\u001b[1;32m    703\u001b[0m             \u001b[0mself\u001b[0m\u001b[0;34m.\u001b[0m\u001b[0m_parent_header\u001b[0m\u001b[0;34m,\u001b[0m\u001b[0;34m\u001b[0m\u001b[0;34m\u001b[0m\u001b[0m\n\u001b[0;32m--> 704\u001b[0;31m             \u001b[0mpassword\u001b[0m\u001b[0;34m=\u001b[0m\u001b[0;32mFalse\u001b[0m\u001b[0;34m,\u001b[0m\u001b[0;34m\u001b[0m\u001b[0;34m\u001b[0m\u001b[0m\n\u001b[0m\u001b[1;32m    705\u001b[0m         )\n\u001b[1;32m    706\u001b[0m \u001b[0;34m\u001b[0m\u001b[0m\n",
            "\u001b[0;32m/usr/local/lib/python3.6/dist-packages/ipykernel/kernelbase.py\u001b[0m in \u001b[0;36m_input_request\u001b[0;34m(self, prompt, ident, parent, password)\u001b[0m\n\u001b[1;32m    732\u001b[0m             \u001b[0;32mexcept\u001b[0m \u001b[0mKeyboardInterrupt\u001b[0m\u001b[0;34m:\u001b[0m\u001b[0;34m\u001b[0m\u001b[0;34m\u001b[0m\u001b[0m\n\u001b[1;32m    733\u001b[0m                 \u001b[0;31m# re-raise KeyboardInterrupt, to truncate traceback\u001b[0m\u001b[0;34m\u001b[0m\u001b[0;34m\u001b[0m\u001b[0;34m\u001b[0m\u001b[0m\n\u001b[0;32m--> 734\u001b[0;31m                 \u001b[0;32mraise\u001b[0m \u001b[0mKeyboardInterrupt\u001b[0m\u001b[0;34m\u001b[0m\u001b[0;34m\u001b[0m\u001b[0m\n\u001b[0m\u001b[1;32m    735\u001b[0m             \u001b[0;32melse\u001b[0m\u001b[0;34m:\u001b[0m\u001b[0;34m\u001b[0m\u001b[0;34m\u001b[0m\u001b[0m\n\u001b[1;32m    736\u001b[0m                 \u001b[0;32mbreak\u001b[0m\u001b[0;34m\u001b[0m\u001b[0;34m\u001b[0m\u001b[0m\n",
            "\u001b[0;31mKeyboardInterrupt\u001b[0m: "
          ]
        }
      ]
    },
    {
      "cell_type": "code",
      "metadata": {
        "id": "M6S_FroNWb4Z",
        "colab": {
          "base_uri": "https://localhost:8080/"
        },
        "outputId": "12091166-fe6f-4d80-dbb2-c2410dcd3349"
      },
      "source": [
        "n = int(input('Cuantos números desea insertar: '))\r\n",
        "x = 1\r\n",
        "pares = 0\r\n",
        "impares = 0\r\n",
        "while x <= n:\r\n",
        "  valor = int(input('Ingrese el número: '))\r\n",
        "  x = x+1\r\n",
        "  if valor % 2 == 0:\r\n",
        "    pares = pares + 1\r\n",
        "  else:\r\n",
        "    impares = impares + 1\r\n",
        "print(f'Ingreso {pares} números pares y {impares} números impares')"
      ],
      "execution_count": 2,
      "outputs": [
        {
          "output_type": "stream",
          "text": [
            "Cuantos números desea insertar: 5\n",
            "Ingrese el número: 1\n",
            "Ingrese el número: 2\n",
            "Ingrese el número: 3\n",
            "Ingrese el número: 4\n",
            "Ingrese el número: 5\n",
            "Ingreso 2 números pares y 3 números impares\n"
          ],
          "name": "stdout"
        }
      ]
    },
    {
      "cell_type": "code",
      "metadata": {
        "colab": {
          "base_uri": "https://localhost:8080/"
        },
        "id": "EtS4MW9CW7Dm",
        "outputId": "f85b95de-03e1-461a-d310-e9456a02e6a2"
      },
      "source": [
        "n = int(input('Ingrese la cantidad de triángulos que va a ingresar: '))\r\n",
        "sp_mayor = 0\r\n",
        "for x in range(n):\r\n",
        "  base = float(input('Ingrese la base del triángulo: '))\r\n",
        "  altura = float(input('Ingrese la altura del triángulo: '))\r\n",
        "  superficie = base * altura/2\r\n",
        "  print(f'La superificie es {superficie}')\r\n",
        "  if superficie > 12:\r\n",
        "    sp_mayor =  sp_mayor + 1\r\n",
        "print(f'Ingreso {sp_mayor} triángulos con superficie mayor a 12')"
      ],
      "execution_count": 6,
      "outputs": [
        {
          "output_type": "stream",
          "text": [
            "Ingrese la cantidad de triángulos que va a ingresar: 2\n",
            "Ingrese la base del triángulo13\n",
            "Ingrese la altura del triángulo22\n",
            "La superificie es 143.0\n",
            "Ingrese la base del triángulo12\n",
            "Ingrese la altura del triángulo11\n",
            "La superificie es 66.0\n",
            "Ingreso 2 triángulos con superficie mayor a 12\n"
          ],
          "name": "stdout"
        }
      ]
    },
    {
      "cell_type": "code",
      "metadata": {
        "colab": {
          "base_uri": "https://localhost:8080/"
        },
        "id": "N0ZoaUaVYiAM",
        "outputId": "f3193667-2db6-4a0d-a96a-e651cd9eecce"
      },
      "source": [
        "suma = 0\r\n",
        "for x in range(10):\r\n",
        "  n= int(input('Ingrese un número: '))\r\n",
        "  if x >= 5:\r\n",
        "    suma = suma + n\r\n",
        "print(f'La suma de los ultimos 5 números es {suma}')"
      ],
      "execution_count": 8,
      "outputs": [
        {
          "output_type": "stream",
          "text": [
            "Ingrese un número: 5\n",
            "Ingrese un número: 5\n",
            "Ingrese un número: 5\n",
            "Ingrese un número: 5\n",
            "Ingrese un número: 5\n",
            "Ingrese un número: 5\n",
            "Ingrese un número: 5\n",
            "Ingrese un número: 5\n",
            "Ingrese un número: 5\n",
            "Ingrese un número: 5\n",
            "La suma de los ultimos 5 números es 25\n"
          ],
          "name": "stdout"
        }
      ]
    },
    {
      "cell_type": "code",
      "metadata": {
        "colab": {
          "base_uri": "https://localhost:8080/"
        },
        "id": "SI95vZmAZXVJ",
        "outputId": "246f2016-205f-4d09-cdb5-e91c96a59eb2"
      },
      "source": [
        "for x in range(10):\r\n",
        "  x = x+1\r\n",
        "  print(x*5)"
      ],
      "execution_count": 10,
      "outputs": [
        {
          "output_type": "stream",
          "text": [
            "5\n",
            "10\n",
            "15\n",
            "20\n",
            "25\n",
            "30\n",
            "35\n",
            "40\n",
            "45\n",
            "50\n"
          ],
          "name": "stdout"
        }
      ]
    },
    {
      "cell_type": "code",
      "metadata": {
        "colab": {
          "base_uri": "https://localhost:8080/"
        },
        "id": "02qzbqi2ZmlN",
        "outputId": "ec7d4f51-5aee-4e73-8ad2-b5e9c9fee193"
      },
      "source": [
        "n = int(input('Ingrese un número para multiplicar: '))\r\n",
        "for x in range(12):\r\n",
        "  x = x+1\r\n",
        "  print(x*n)"
      ],
      "execution_count": 11,
      "outputs": [
        {
          "output_type": "stream",
          "text": [
            "Ingrese un número para multiplicar: 3\n",
            "3\n",
            "6\n",
            "9\n",
            "12\n",
            "15\n",
            "18\n",
            "21\n",
            "24\n",
            "27\n",
            "30\n",
            "33\n",
            "36\n"
          ],
          "name": "stdout"
        }
      ]
    },
    {
      "cell_type": "code",
      "metadata": {
        "colab": {
          "base_uri": "https://localhost:8080/"
        },
        "id": "1nWn-lmXZ-Qw",
        "outputId": "71b9c0f4-96d6-4d0b-be8a-d5ed2172cdbf"
      },
      "source": [
        "eql = 0\r\n",
        "iscl = 0\r\n",
        "escl = 0\r\n",
        "n = int(input('Cuantos triángulos: '))\r\n",
        "for x in range(n):\r\n",
        "  lado_1 = int(input('Ingrese la medida del lado 1: '))\r\n",
        "  lado_2 = int(input('Ingrese la medida del lado 2: '))\r\n",
        "  lado_3 = int(input('Ingrese la medida del lado 3: '))\r\n",
        "  if lado_1 == lado_2 and lado_2 == lado_3 :\r\n",
        "    print('Ingreso un triángulo equilátero')\r\n",
        "    eql = eql +1\r\n",
        "  elif lado_1 == lado_2 or lado_1 == lado_3 or lado_2 == lado_3:\r\n",
        "    print('Ingreso un triángulo isósceles')\r\n",
        "    iscl =  iscl + 1\r\n",
        "  else:\r\n",
        "    print('Ingreso un triángulo escaleno')\r\n",
        "    escl = escl + 1\r\n",
        "print(f'Ingreso {eql} triángulos equiláteros, {iscl} triángulos isósceles, {escl} triángulos escalenos')"
      ],
      "execution_count": 15,
      "outputs": [
        {
          "output_type": "stream",
          "text": [
            "Cuantos triángulos: 2\n",
            "Ingrese la medida del lado 1: 3\n",
            "Ingrese la medida del lado 2: 3\n",
            "Ingrese la medida del lado 3: 3\n",
            "Ingreso un triángulo equilátero\n",
            "Ingrese la medida del lado 1: 2\n",
            "Ingrese la medida del lado 2: 2\n",
            "Ingrese la medida del lado 3: 1\n",
            "Ingreso un triángulo isósceles\n",
            "Ingreso 1 triángulos equiláteros, 1 triángulos isósceles, 0 triángulos escalenos\n"
          ],
          "name": "stdout"
        }
      ]
    },
    {
      "cell_type": "code",
      "metadata": {
        "colab": {
          "base_uri": "https://localhost:8080/"
        },
        "id": "Iq67A26Zbgty",
        "outputId": "7109d131-239e-4a1c-8eba-f868ac5663a1"
      },
      "source": [
        "n = int(input('Cuantas coordenadas va a ingresar: '))\r\n",
        "primer_cuadrante = 0\r\n",
        "segundo_cuadrante = 0\r\n",
        "tercer_cuadrante = 0\r\n",
        "cuarto_cuadrante = 0\r\n",
        "for x in range(n):\r\n",
        "  coord_x = float(input('Ingrese la coordenada x: '))\r\n",
        "  coord_y = float(input('Ingrese la coordenada y: '))\r\n",
        "  if coord_x >= 0 and coord_y >= 0:\r\n",
        "    print('Primer cuadrante')\r\n",
        "    primer_cuadrante = primer_cuadrante + 1\r\n",
        "  elif coord_x < 0 and coord_y >= 0:\r\n",
        "    print('Segundo cuadrante')\r\n",
        "    segundo_cuadrante = segundo_cuadrante + 1\r\n",
        "  elif coord_x <0 and coord_y < 0:\r\n",
        "    print('Tercer cuadrante')\r\n",
        "    tercer_cuadrante = tercer_cuadrante + 1\r\n",
        "  else:\r\n",
        "    print('Cuarto cuadrante')\r\n",
        "    cuarto_cuadrante = cuarto_cuadrante +1\r\n",
        "print(f'{primer_cuadrante} coordenadas en en primer cuadrante \\n{segundo_cuadrante} coordenadas en el segundo cuadrante \\n{tercer_cuadrante} coordenadas en el tercer cuarante \\n{cuarto_cuadrante} coordenadas en el cuarto cuadrante ')"
      ],
      "execution_count": 19,
      "outputs": [
        {
          "output_type": "stream",
          "text": [
            "Cuantas coordenadas va a ingresar: 4\n",
            "Ingrese la coordenada x: 1\n",
            "Ingrese la coordenada y: 1\n",
            "Primer cuadrante\n",
            "Ingrese la coordenada x: -1\n",
            "Ingrese la coordenada y: 1\n",
            "Segundo cuadrante\n",
            "Ingrese la coordenada x: -1\n",
            "Ingrese la coordenada y: -1\n",
            "Tercer cuadrante\n",
            "Ingrese la coordenada x: 1\n",
            "Ingrese la coordenada y: -1\n",
            "Cuarto cuadrante\n",
            "1 coordenadas en en primer cuadrante \n",
            "1 coordenadas en el segundo cuadrante \n",
            "1 coordenadas en el tercer cuarante \n",
            "1 coordenadas en el cuarto cuadrante \n"
          ],
          "name": "stdout"
        }
      ]
    },
    {
      "cell_type": "code",
      "metadata": {
        "colab": {
          "base_uri": "https://localhost:8080/"
        },
        "id": "15IdG9nhdZQB",
        "outputId": "8f4916d3-7132-49cd-bdd9-603ed45802cd"
      },
      "source": [
        "pos = 0\r\n",
        "neg = 0\r\n",
        "multp = 0\r\n",
        "pares = 0\r\n",
        "for x in range(10):\r\n",
        "  n = float(input('Ingrese un número: '))\r\n",
        "  if n >= 0:\r\n",
        "    pos = pos+1\r\n",
        "  else:\r\n",
        "    neg = neg + 1\r\n",
        "  if n%15==0:\r\n",
        "    multp = multp + 1\r\n",
        "  if n%2 == 0:\r\n",
        "    pares = pares + n\r\n",
        "print(f'{pos} números positivos, {neg} números negativos, {multp} números multiplos de 15, {pares: .0f} valor acumulado números pares.')"
      ],
      "execution_count": 21,
      "outputs": [
        {
          "output_type": "stream",
          "text": [
            "Ingrese un número: 2\n",
            "Ingrese un número: 33\n",
            "Ingrese un número: 3.3333\n",
            "Ingrese un número: 2\n",
            "Ingrese un número: 1\n",
            "Ingrese un número: 2\n",
            "Ingrese un número: 3\n",
            "Ingrese un número: 2\n",
            "Ingrese un número: 2\n",
            "Ingrese un número: 2\n",
            "10 números positivos, 0 números negativos, 0 números multiplos de 15,  12 valor acumulado números pares.\n"
          ],
          "name": "stdout"
        }
      ]
    },
    {
      "cell_type": "code",
      "metadata": {
        "colab": {
          "base_uri": "https://localhost:8080/"
        },
        "id": "9AsQylswfGD1",
        "outputId": "8349290b-be9c-4729-8948-710cb301acbd"
      },
      "source": [
        "mañana = 0\r\n",
        "tarde = 0\r\n",
        "noche = 0\r\n",
        "for x in range(5):\r\n",
        "  n = int(input('Edad estudiante mañana: '))\r\n",
        "  mañana = mañana + n\r\n",
        "prom_mañana = mañana/5\r\n",
        "print(f'El promedio de la edad de los estudiantes de la mañana es {prom_mañana}')\r\n",
        "for x in range(6):\r\n",
        "  n = int(input('Edad estudiante tarde: '))\r\n",
        "  tarde = tarde + n\r\n",
        "prom_tarde = tarde/6\r\n",
        "print(f'El promedio de la edad de los estudiantes de la tarde es {prom_tarde}')\r\n",
        "for x in range(11):\r\n",
        "  n = int(input('Edad estudiante noche: '))\r\n",
        "  noche =  noche + n\r\n",
        "prom_noche = noche/11\r\n",
        "print(f'El promedio de la edad de los estudiantes de la noche es {prom_noche}')\r\n",
        "if prom_mañana > prom_noche and prom_mañana > prom_tarde:\r\n",
        "  print('Los estudiantes de la mañana tienen la edad mayor')\r\n",
        "elif prom_noche > prom_mañana and prom_noche > prom_tarde:\r\n",
        "  print('Los estudiantes de la noche tienen la edad mayor')\r\n",
        "elif prom_tarde > prom_noche and prom_tarde > prom_mañana:\r\n",
        "  print('Los estudiantes de la tarde tienen la edad mayor')"
      ],
      "execution_count": 23,
      "outputs": [
        {
          "output_type": "stream",
          "text": [
            "Edad estudiante mañana: 2\n",
            "Edad estudiante mañana: 2\n",
            "Edad estudiante mañana: 3\n",
            "Edad estudiante mañana: 2\n",
            "Edad estudiante mañana: 1\n",
            "El promedio de la edad de los estudiantes de la mañana es 2.0\n",
            "Edad estudiante tarde: 3\n",
            "Edad estudiante tarde: 2\n",
            "Edad estudiante tarde: 5\n",
            "Edad estudiante tarde: 10\n",
            "Edad estudiante tarde: 11\n",
            "Edad estudiante tarde: 2\n",
            "El promedio de la edad de los estudiantes de la tarde es 5.5\n",
            "Edad estudiante noche: 40\n",
            "Edad estudiante noche: 2\n",
            "Edad estudiante noche: 1\n",
            "Edad estudiante noche: 1\n",
            "Edad estudiante noche: 1\n",
            "Edad estudiante noche: 1\n",
            "Edad estudiante noche: 1\n",
            "Edad estudiante noche: 1\n",
            "Edad estudiante noche: 1\n",
            "Edad estudiante noche: 1\n",
            "Edad estudiante noche: 1\n",
            "El promedio de la edad de los estudiantes de la noche es 4.636363636363637\n",
            "Los estudiantes de la tarde tienen la edad mayor\n"
          ],
          "name": "stdout"
        }
      ]
    },
    {
      "cell_type": "code",
      "metadata": {
        "id": "BGI1wdk0hD-S"
      },
      "source": [
        ""
      ],
      "execution_count": null,
      "outputs": []
    }
  ]
}