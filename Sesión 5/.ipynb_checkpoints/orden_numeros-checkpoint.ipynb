{
 "cells": [
  {
   "cell_type": "code",
   "execution_count": 7,
   "metadata": {
    "colab": {
     "base_uri": "https://localhost:8080/"
    },
    "id": "HY5MXXPWqAuG",
    "outputId": "d7d45ea1-d75e-4481-cc96-f3d25d8f3188"
   },
   "outputs": [
    {
     "name": "stdout",
     "output_type": "stream",
     "text": [
      "Ingresar número 1: 4\n",
      "Ingresar número 2: 5\n",
      "Ingresar número 3: 6\n",
      "6 - 5 - 4\n"
     ]
    }
   ],
   "source": [
    "#Mayor a menor\n",
    "n1 = int(input('Ingresar número 1: '))\n",
    "n2 = int(input('Ingresar número 2: '))\n",
    "n3 = int(input('Ingresar número 3: '))\n",
    "if n1>n2 and n1>n3:\n",
    "  ord1 = n1\n",
    "  if n2>n3:\n",
    "    ord2 = n2\n",
    "    ord3 = n3\n",
    "  else:\n",
    "    ord2 = n3\n",
    "    ord3 = n2\n",
    "elif n2>n1 and n2>n3:\n",
    "  ord1 = n2\n",
    "  if n1>n3:\n",
    "    ord2 = n1\n",
    "    ord3 = n3 \n",
    "  else:\n",
    "    ord2 = n3\n",
    "    ord3 = n1\n",
    "elif n3>n1 and n3>n2:\n",
    "  ord1 = n3\n",
    "  if n1>n2:\n",
    "    ord2 = n1\n",
    "    ord3 = n2\n",
    "  else:\n",
    "    ord2 = n2\n",
    "    ord3 = n1\n",
    "print(f'{ord1} - {ord2} - {ord3}')"
   ]
  },
  {
   "cell_type": "code",
   "execution_count": 12,
   "metadata": {
    "colab": {
     "base_uri": "https://localhost:8080/"
    },
    "id": "u7eRJkeMqSYt",
    "outputId": "6a9aebc6-1f95-4d17-a6c2-4fa234237396"
   },
   "outputs": [
    {
     "name": "stdout",
     "output_type": "stream",
     "text": [
      "Ingresar número 1: 2\n",
      "Ingresar número 2: 3\n",
      "Ingresar número 3: 6\n",
      "[6, 3, 2]\n"
     ]
    }
   ],
   "source": [
    "#Mayor a menor\n",
    "n1 = int(input('Ingresar número 1: '))\n",
    "n2 = int(input('Ingresar número 2: '))\n",
    "n3 = int(input('Ingresar número 3: '))\n",
    "num_ord = []; num_ord.append(n1); num_ord.append(n2); num_ord.append(n3); num_ord.sort(reverse=True)\n",
    "print(num_ord)"
   ]
  },
  {
   "cell_type": "code",
   "execution_count": 15,
   "metadata": {
    "colab": {
     "base_uri": "https://localhost:8080/"
    },
    "id": "6oOgOwC0v4bs",
    "outputId": "6999ae11-8fbc-4822-d3b7-e76579954c0e"
   },
   "outputs": [
    {
     "name": "stdout",
     "output_type": "stream",
     "text": [
      "Ingresar número 1: 4\n",
      "Ingresar número 2: 5\n",
      "Ingresar número 3: 2\n",
      "2 - 4 - 5\n"
     ]
    }
   ],
   "source": [
    "#Menor a mayor\n",
    "n1 = int(input('Ingresar número 1: '))\n",
    "n2 = int(input('Ingresar número 2: '))\n",
    "n3 = int(input('Ingresar número 3: '))\n",
    "if n1>n2 and n1>n3:\n",
    "  ord3 = n1\n",
    "  if n2>n3:\n",
    "    ord2 = n2\n",
    "    ord1 = n3\n",
    "  else:\n",
    "    ord2 = n3\n",
    "    ord1 = n2\n",
    "elif n2>n1 and n2>n3:\n",
    "  ord3 = n2\n",
    "  if n1>n3:\n",
    "    ord2 = n1\n",
    "    ord1 = n3 \n",
    "  else:\n",
    "    ord2 = n3\n",
    "    ord1 = n1\n",
    "elif n3>n1 and n3>n2:\n",
    "  ord3 = n3\n",
    "  if n1>n2:\n",
    "    ord2 = n1\n",
    "    ord1 = n2\n",
    "  else:\n",
    "    ord2 = n2\n",
    "    ord1 = n1\n",
    "print(f'{ord1} - {ord2} - {ord3}')"
   ]
  },
  {
   "cell_type": "code",
   "execution_count": 16,
   "metadata": {
    "colab": {
     "base_uri": "https://localhost:8080/"
    },
    "id": "nqOCtkOzx94-",
    "outputId": "af2d80f2-f3a2-4345-fa07-3f62f113c000"
   },
   "outputs": [
    {
     "name": "stdout",
     "output_type": "stream",
     "text": [
      "Ingresar número 1: 4\n",
      "Ingresar número 2: 6\n",
      "Ingresar número 3: 2\n",
      "[2, 4, 6]\n"
     ]
    }
   ],
   "source": [
    "#Menor a mayor\n",
    "n1 = int(input('Ingresar número 1: '))\n",
    "n2 = int(input('Ingresar número 2: '))\n",
    "n3 = int(input('Ingresar número 3: '))\n",
    "num_ord = []; num_ord.append(n1); num_ord.append(n2); num_ord.append(n3); num_ord.sort()\n",
    "print(num_ord)"
   ]
  },
  {
   "cell_type": "code",
   "execution_count": null,
   "metadata": {
    "id": "nmqJ8RTZyKxE"
   },
   "outputs": [],
   "source": []
  }
 ],
 "metadata": {
  "colab": {
   "collapsed_sections": [],
   "name": "orden_numeros.ipynb",
   "provenance": []
  },
  "kernelspec": {
   "display_name": "Python 3",
   "language": "python",
   "name": "python3"
  },
  "language_info": {
   "codemirror_mode": {
    "name": "ipython",
    "version": 3
   },
   "file_extension": ".py",
   "mimetype": "text/x-python",
   "name": "python",
   "nbconvert_exporter": "python",
   "pygments_lexer": "ipython3",
   "version": "3.8.5"
  }
 },
 "nbformat": 4,
 "nbformat_minor": 1
}
