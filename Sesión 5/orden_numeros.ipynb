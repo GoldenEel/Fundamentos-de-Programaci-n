{
  "nbformat": 4,
  "nbformat_minor": 0,
  "metadata": {
    "colab": {
      "name": "orden_numeros.ipynb",
      "provenance": [],
      "collapsed_sections": []
    },
    "kernelspec": {
      "name": "python3",
      "display_name": "Python 3"
    }
  },
  "cells": [
    {
      "cell_type": "code",
      "metadata": {
        "colab": {
          "base_uri": "https://localhost:8080/"
        },
        "id": "HY5MXXPWqAuG",
        "outputId": "d7d45ea1-d75e-4481-cc96-f3d25d8f3188"
      },
      "source": [
        "#Mayor a menor\r\n",
        "n1 = int(input('Ingresar número 1: '))\r\n",
        "n2 = int(input('Ingresar número 2: '))\r\n",
        "n3 = int(input('Ingresar número 3: '))\r\n",
        "if n1>n2 and n1>n3:\r\n",
        "  ord1 = n1\r\n",
        "  if n2>n3:\r\n",
        "    ord2 = n2\r\n",
        "    ord3 = n3\r\n",
        "  else:\r\n",
        "    ord2 = n3\r\n",
        "    ord3 = n2\r\n",
        "elif n2>n1 and n2>n3:\r\n",
        "  ord1 = n2\r\n",
        "  if n1>n3:\r\n",
        "    ord2 = n1\r\n",
        "    ord3 = n3 \r\n",
        "  else:\r\n",
        "    ord2 = n3\r\n",
        "    ord3 = n1\r\n",
        "elif n3>n1 and n3>n2:\r\n",
        "  ord1 = n3\r\n",
        "  if n1>n2:\r\n",
        "    ord2 = n1\r\n",
        "    ord3 = n2\r\n",
        "  else:\r\n",
        "    ord2 = n2\r\n",
        "    ord3 = n1\r\n",
        "print(f'{ord1} - {ord2} - {ord3}')"
      ],
      "execution_count": 7,
      "outputs": [
        {
          "output_type": "stream",
          "text": [
            "Ingresar número 1: 4\n",
            "Ingresar número 2: 5\n",
            "Ingresar número 3: 6\n",
            "6 - 5 - 4\n"
          ],
          "name": "stdout"
        }
      ]
    },
    {
      "cell_type": "code",
      "metadata": {
        "colab": {
          "base_uri": "https://localhost:8080/"
        },
        "id": "u7eRJkeMqSYt",
        "outputId": "6a9aebc6-1f95-4d17-a6c2-4fa234237396"
      },
      "source": [
        "#Mayor a menor\r\n",
        "n1 = int(input('Ingresar número 1: '))\r\n",
        "n2 = int(input('Ingresar número 2: '))\r\n",
        "n3 = int(input('Ingresar número 3: '))\r\n",
        "num_ord = []; num_ord.append(n1); num_ord.append(n2); num_ord.append(n3); num_ord.sort(reverse=True)\r\n",
        "print(num_ord)"
      ],
      "execution_count": 12,
      "outputs": [
        {
          "output_type": "stream",
          "text": [
            "Ingresar número 1: 2\n",
            "Ingresar número 2: 3\n",
            "Ingresar número 3: 6\n",
            "[6, 3, 2]\n"
          ],
          "name": "stdout"
        }
      ]
    },
    {
      "cell_type": "code",
      "metadata": {
        "colab": {
          "base_uri": "https://localhost:8080/"
        },
        "id": "6oOgOwC0v4bs",
        "outputId": "6999ae11-8fbc-4822-d3b7-e76579954c0e"
      },
      "source": [
        "#Menor a mayor\r\n",
        "n1 = int(input('Ingresar número 1: '))\r\n",
        "n2 = int(input('Ingresar número 2: '))\r\n",
        "n3 = int(input('Ingresar número 3: '))\r\n",
        "if n1>n2 and n1>n3:\r\n",
        "  ord3 = n1\r\n",
        "  if n2>n3:\r\n",
        "    ord2 = n2\r\n",
        "    ord1 = n3\r\n",
        "  else:\r\n",
        "    ord2 = n3\r\n",
        "    ord1 = n2\r\n",
        "elif n2>n1 and n2>n3:\r\n",
        "  ord3 = n2\r\n",
        "  if n1>n3:\r\n",
        "    ord2 = n1\r\n",
        "    ord1 = n3 \r\n",
        "  else:\r\n",
        "    ord2 = n3\r\n",
        "    ord1 = n1\r\n",
        "elif n3>n1 and n3>n2:\r\n",
        "  ord3 = n3\r\n",
        "  if n1>n2:\r\n",
        "    ord2 = n1\r\n",
        "    ord1 = n2\r\n",
        "  else:\r\n",
        "    ord2 = n2\r\n",
        "    ord1 = n1\r\n",
        "print(f'{ord1} - {ord2} - {ord3}')"
      ],
      "execution_count": 15,
      "outputs": [
        {
          "output_type": "stream",
          "text": [
            "Ingresar número 1: 4\n",
            "Ingresar número 2: 5\n",
            "Ingresar número 3: 2\n",
            "2 - 4 - 5\n"
          ],
          "name": "stdout"
        }
      ]
    },
    {
      "cell_type": "code",
      "metadata": {
        "colab": {
          "base_uri": "https://localhost:8080/"
        },
        "id": "nqOCtkOzx94-",
        "outputId": "af2d80f2-f3a2-4345-fa07-3f62f113c000"
      },
      "source": [
        "#Menor a mayor\r\n",
        "n1 = int(input('Ingresar número 1: '))\r\n",
        "n2 = int(input('Ingresar número 2: '))\r\n",
        "n3 = int(input('Ingresar número 3: '))\r\n",
        "num_ord = []; num_ord.append(n1); num_ord.append(n2); num_ord.append(n3); num_ord.sort()\r\n",
        "print(num_ord)"
      ],
      "execution_count": 16,
      "outputs": [
        {
          "output_type": "stream",
          "text": [
            "Ingresar número 1: 4\n",
            "Ingresar número 2: 6\n",
            "Ingresar número 3: 2\n",
            "[2, 4, 6]\n"
          ],
          "name": "stdout"
        }
      ]
    },
    {
      "cell_type": "code",
      "metadata": {
        "id": "nmqJ8RTZyKxE"
      },
      "source": [
        ""
      ],
      "execution_count": null,
      "outputs": []
    }
  ]
}