{
 "cells": [
  {
   "cell_type": "code",
   "execution_count": 4,
   "metadata": {},
   "outputs": [
    {
     "name": "stdout",
     "output_type": "stream",
     "text": [
      "Numero de inasistencias:13\n",
      "Nota primer parcial 5\n",
      "Nota segundo parcial 5\n",
      "Nota tercer parcial 5\n",
      "Perdió por inasistencia, su nota es 2.5\n"
     ]
    }
   ],
   "source": [
    "var_inasistencia = int(input('Numero de inasistencias:'))\n",
    "pp = int(input('Nota primer parcial '))\n",
    "sp = int(input('Nota segundo parcial '))\n",
    "tp = int(input('Nota tercer parcial '))\n",
    "nota_final = (pp + sp +tp)/3\n",
    "if var_inasistencia < 12:\n",
    "    if nota_final >= 3:\n",
    "        print('Gano académicamente')\n",
    "    else:\n",
    "        print('Perdió académicamente')\n",
    "elif nota_final <3:\n",
    "    print('Perdió académicamente y por inasistencia')\n",
    "else: \n",
    "    print('Perdió por inasistencia, su nota es', nota_final/2)"
   ]
  },
  {
   "cell_type": "code",
   "execution_count": null,
   "metadata": {},
   "outputs": [],
   "source": []
  }
 ],
 "metadata": {
  "kernelspec": {
   "display_name": "Python 3",
   "language": "python",
   "name": "python3"
  },
  "language_info": {
   "codemirror_mode": {
    "name": "ipython",
    "version": 3
   },
   "file_extension": ".py",
   "mimetype": "text/x-python",
   "name": "python",
   "nbconvert_exporter": "python",
   "pygments_lexer": "ipython3",
   "version": "3.8.5"
  }
 },
 "nbformat": 4,
 "nbformat_minor": 4
}
