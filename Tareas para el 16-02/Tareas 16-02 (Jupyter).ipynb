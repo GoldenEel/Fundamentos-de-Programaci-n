{
 "cells": [
  {
   "cell_type": "code",
   "execution_count": 6,
   "metadata": {},
   "outputs": [
    {
     "name": "stdout",
     "output_type": "stream",
     "text": [
      "Ingrese el valor de su compra: 2000\n",
      "El valor final de su crompra es: 2280.0 pesos\n"
     ]
    }
   ],
   "source": [
    "compra = float(input('Ingrese el valor de su compra: '))\n",
    "IVA = compra * 0.19\n",
    "compra_descuento = compra * 0.95\n",
    "valor_compra = compra_descuento + IVA\n",
    "print(f'El valor final de su crompra es: {valor_compra: .2f} pesos')"
   ]
  },
  {
   "cell_type": "code",
   "execution_count": 5,
   "metadata": {},
   "outputs": [
    {
     "name": "stdout",
     "output_type": "stream",
     "text": [
      "Ingrese el radio del circulo: 10\n",
      "El area del circulo es 314.1592653589793 y la longitud de su circumferencia es 62.83185307179586\n"
     ]
    }
   ],
   "source": [
    "import math\n",
    "\n",
    "r = float(input('Ingrese el radio del circulo: '))\n",
    "A = (r**2) * math.pi\n",
    "L = 2*math.pi*r\n",
    "print(f\"El area del circulo es {A} y la longitud de su circumferencia es {L: .2f}\")"
   ]
  },
  {
   "cell_type": "code",
   "execution_count": 8,
   "metadata": {},
   "outputs": [
    {
     "name": "stdout",
     "output_type": "stream",
     "text": [
      "Ingrese su peso en kg: 63\n",
      "Ingrese su estatura en metros: 1.75\n",
      "Su indice de masa corporal es 20.571428571428573\n"
     ]
    }
   ],
   "source": [
    "peso =  float(input('Ingrese su peso en kg: '))\n",
    "estatura = float(input('Ingrese su estatura en metros: '))\n",
    "BMI = peso / (estatura**2)\n",
    "print(f'Su indice de masa corporal es {BMI: .2f}')"
   ]
  },
  {
   "cell_type": "code",
   "execution_count": 10,
   "metadata": {},
   "outputs": [
    {
     "name": "stdout",
     "output_type": "stream",
     "text": [
      "Ingrese la nota de su primer bimestre: 4.5\n",
      "Ingrese la nota de su segundo bimestre: 3\n",
      "Para ganar el semestre necesita al menos un 3.0 en el examen supletorio\n"
     ]
    }
   ],
   "source": [
    "p_sem = float(input('Ingrese la nota de su primer bimestre: '))\n",
    "s_sem = float(input('Ingrese la nota de su segundo bimestre: '))\n",
    "exm_spl =  10.5 - (p_sem + s_sem)\n",
    "if exm_spl >5:\n",
    "    print('Ya no puede ganar el semestre sin importar la nota en el examen supletorio')\n",
    "else: \n",
    "    print(f'Para ganar el semestre necesita al menos un {exm_spl: .2f} en el examen supletorio')"
   ]
  },
  {
   "cell_type": "code",
   "execution_count": 12,
   "metadata": {},
   "outputs": [
    {
     "name": "stdout",
     "output_type": "stream",
     "text": [
      "Ingrese la distancia que desea recorrer en km: 60\n",
      "Ingrese el tiempo en el que la desea recorrer en horas:2\n",
      "El vehiculo debera ir a 30.0 km/h\n"
     ]
    }
   ],
   "source": [
    "d = float(input('Ingrese la distancia que desea recorrer en km: '))\n",
    "t =  float(input('Ingrese el tiempo en el que la desea recorrer en horas:'))\n",
    "v= d/t\n",
    "print(f'El vehiculo debera ir a {v: .2f} km/h')"
   ]
  },
  {
   "cell_type": "code",
   "execution_count": 19,
   "metadata": {},
   "outputs": [
    {
     "name": "stdout",
     "output_type": "stream",
     "text": [
      "Numero de empleados: 2\n",
      "Realizan una tarea en cuantas horas: 1.4\n",
      "En cuantas horas desearia realizar la tarea: 3.3\n",
      "Para realizar la tarea en 3.3 horas se necesitarian  1 empleados\n"
     ]
    }
   ],
   "source": [
    "n = int(input('Numero de empleados: '))\n",
    "k = float(input('Realizan una tarea en cuantas horas: '))\n",
    "k1 = float(input('En cuantas horas desearia realizar la tarea: '))\n",
    "n1 = (n*k)/k1\n",
    "print(f'Para realizar la tarea en {k1:.1f} horas se necesitarian {n1: .0f} empleados')"
   ]
  },
  {
   "cell_type": "code",
   "execution_count": 21,
   "metadata": {},
   "outputs": [
    {
     "name": "stdout",
     "output_type": "stream",
     "text": [
      "Bienvenido a la calculadora\n",
      "Ingrese el primer número: 2\n",
      "Ingrese el segundo número: 5\n",
      "Ingrese el tipo de operación (+, -, /, *, **): -\n",
      "-3.0\n"
     ]
    }
   ],
   "source": [
    "print('Bienvenido a la calculadora')\n",
    "n1 = float(input('Ingrese el primer número: '))\n",
    "op = input('Ingrese el tipo de operación (+, -, /, *, **): ')\n",
    "n2 = float(input('Ingrese el segundo número: '))\n",
    "\n",
    "if op == '+':\n",
    "    res = n1 + n2\n",
    "    print(res)\n",
    "elif op == '-':\n",
    "    res = n1 - n2\n",
    "    print(res)\n",
    "elif op == '/':\n",
    "    res = n1 / n2\n",
    "    print(res)\n",
    "elif op == '*':\n",
    "    res =  n1 * n2\n",
    "    print(res)\n",
    "elif op == '**':\n",
    "    res = n1 ** n2\n",
    "    print(res)\n",
    "else: \n",
    "    print('Porfavor especifique un operador valido')"
   ]
  },
  {
   "cell_type": "code",
   "execution_count": 15,
   "metadata": {},
   "outputs": [
    {
     "name": "stdout",
     "output_type": "stream",
     "text": [
      "Ingrese la masa del objeto (kg): 5\n",
      "Ingresse el coeficiente de rozamiento estático del objeto: 2\n",
      "La fuerza necesaria para mover este objeto es 10.0N\n"
     ]
    }
   ],
   "source": [
    "#No estoy seguro si las formula es correcta para este ejercicio\n",
    "m = float(input('Ingrese la masa del objeto (kg): '))\n",
    "us = float(input('Ingresse el coeficiente de rozamiento estático del objeto: '))\n",
    "fuerza = m * us\n",
    "print(f'La fuerza necesaria para mover este objeto es {fuerza:.2f}N')"
   ]
  },
  {
   "cell_type": "code",
   "execution_count": 16,
   "metadata": {},
   "outputs": [
    {
     "name": "stdout",
     "output_type": "stream",
     "text": [
      "Ingrese una temperatura en grados celsius: 23\n",
      "23.0 grados celsuis son 73.4 grados farenheit y 296.15 grados kelvin.\n"
     ]
    }
   ],
   "source": [
    "celsius = float(input('Ingrese una temperatura en grados celsius: '))\n",
    "far = celsius * (9/5) + 32\n",
    "kelv = celsius + 273.15\n",
    "print(f'{celsius} grados celsuis son {far} grados farenheit y {kelv} grados kelvin.')"
   ]
  },
  {
   "cell_type": "code",
   "execution_count": 17,
   "metadata": {},
   "outputs": [
    {
     "name": "stdout",
     "output_type": "stream",
     "text": [
      "Ingrese la altura del rectángulo: 12\n",
      "Ingrese la base del rectángulo: 18\n",
      "El perimetro del rectángulo es 60.0 cm y su área es 216.0 cm^2\n"
     ]
    }
   ],
   "source": [
    "altura = float(input('Ingrese la altura del rectángulo: '))\n",
    "base = float(input('Ingrese la base del rectángulo: '))\n",
    "perim = altura * 2 + base * 2\n",
    "area = base * altura\n",
    "print(f'El perimetro del rectángulo es {perim: .2f} cm y su área es {area: .2f} cm^2')"
   ]
  },
  {
   "cell_type": "code",
   "execution_count": 20,
   "metadata": {},
   "outputs": [
    {
     "name": "stdout",
     "output_type": "stream",
     "text": [
      "Ingrese el total de horas trabajadas: 20\n",
      "Ingrese su sueldo por hora: 2\n",
      "Su sueldo final es de  29.19 dolares\n"
     ]
    }
   ],
   "source": [
    "horas_trabajadas = int(input('Ingrese el total de horas trabajadas: '))\n",
    "horas_sueldo = int(input('Ingrese su sueldo por hora: '))\n",
    "sueldo = horas_trabajadas *  horas_sueldo\n",
    "if sueldo < 300:\n",
    "    sueldo_total = (sueldo - (sueldo * 0.29022)) + (sueldo * 0.02)\n",
    "else:\n",
    "    sueldo_total = sueldo - (sueldo * 0.29022)\n",
    "\n",
    "print(f'Su sueldo final es de {sueldo_total: .2f} dolares')"
   ]
  },
  {
   "cell_type": "code",
   "execution_count": null,
   "metadata": {},
   "outputs": [],
   "source": []
  }
 ],
 "metadata": {
  "kernelspec": {
   "display_name": "Python 3",
   "language": "python",
   "name": "python3"
  },
  "language_info": {
   "codemirror_mode": {
    "name": "ipython",
    "version": 3
   },
   "file_extension": ".py",
   "mimetype": "text/x-python",
   "name": "python",
   "nbconvert_exporter": "python",
   "pygments_lexer": "ipython3",
   "version": "3.8.5"
  }
 },
 "nbformat": 4,
 "nbformat_minor": 4
}
