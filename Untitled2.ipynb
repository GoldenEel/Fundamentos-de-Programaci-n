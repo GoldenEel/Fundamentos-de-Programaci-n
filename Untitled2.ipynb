{
 "cells": [
  {
   "cell_type": "code",
   "execution_count": null,
   "metadata": {},
   "outputs": [],
   "source": [
    "sueldo = int(input('Digite su sueldo: '))\n",
    "if sueldo>3000:\n",
    "    print('Esta persona debe abonar impuestos.')\n",
    "else: \n",
    "    print('Esta persona no debe abonar impuestos.')"
   ]
  },
  {
   "cell_type": "markdown",
   "metadata": {},
   "source": [
    "#### Leer las notas de los 3 parciales, el acumulado de inasistencias y calcular la nota definitiva sabiendo que pp vale 35% sp 35% tp 30%. Imprimir nota def. y concepto: Gano académicamente, Perdió académicamente o Perdió por inasistencia"
   ]
  },
  {
   "cell_type": "code",
   "execution_count": null,
   "metadata": {},
   "outputs": [],
   "source": [
    "var_inasistencia = int(input('Numero de inasistencias:'))\n",
    "pp = int(input('Nota primer parcial'))\n",
    "sp = int(input('Nota segundo parcial'))\n",
    "tp = int(input('Nota tercer parcial'))\n",
    "nota_final = (pp + sp +tp)/3\n",
    "if var_inasistencia < 12:\n",
    "    if nota_final >= 3:\n",
    "        print('Gano académicamente')\n",
    "    else:\n",
    "        print('Perdió académicamente')\n",
    "else: \n",
    "    print('Perdió por inasistencia')"
   ]
  },
  {
   "cell_type": "code",
   "execution_count": null,
   "metadata": {},
   "outputs": [],
   "source": []
  },
  {
   "cell_type": "code",
   "execution_count": null,
   "metadata": {},
   "outputs": [],
   "source": []
  }
 ],
 "metadata": {
  "kernelspec": {
   "display_name": "Python 3",
   "language": "python",
   "name": "python3"
  },
  "language_info": {
   "codemirror_mode": {
    "name": "ipython",
    "version": 3
   },
   "file_extension": ".py",
   "mimetype": "text/x-python",
   "name": "python",
   "nbconvert_exporter": "python",
   "pygments_lexer": "ipython3",
   "version": "3.8.5"
  }
 },
 "nbformat": 4,
 "nbformat_minor": 4
}
